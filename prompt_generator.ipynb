{
 "cells": [
  {
   "cell_type": "code",
   "execution_count": 33,
   "id": "5ca38860",
   "metadata": {},
   "outputs": [],
   "source": [
    "import random\n",
    "import pandas as pd\n",
    "import json"
   ]
  },
  {
   "cell_type": "code",
   "execution_count": 25,
   "id": "c3379b02",
   "metadata": {},
   "outputs": [],
   "source": [
    "\n",
    "def prompt_generator(prompt_stems, answer_stems, prompt_keyword, answer_keyword):\n",
    "    # Define the list of prompt stems\n",
    "   \n",
    "    # Randomly select a prompt stem and an answer stem\n",
    "    selected_prompt = random.choice(prompt_stems)\n",
    "    selected_answer = random.choice(answer_stems)\n",
    "    # Replace {course_name} and {answer} in the selected stems\n",
    "    user_prompt = selected_prompt.format(prompt_keyword=prompt_keyword)\n",
    "    assistant_response = selected_answer.format(prompt_keyword=prompt_keyword, answer_keyword=answer_keyword)\n",
    "    \n",
    "    # Return the results as a dictionary\n",
    "    return {\n",
    "        \"user\": user_prompt,\n",
    "        \"assistant\": assistant_response\n",
    "    }"
   ]
  },
  {
   "cell_type": "markdown",
   "id": "625328d1",
   "metadata": {},
   "source": [
    "# Generating datsets for Majors and Schools"
   ]
  },
  {
   "cell_type": "code",
   "execution_count": 30,
   "id": "50142998",
   "metadata": {},
   "outputs": [
    {
     "data": {
      "text/plain": [
       "Index(['Department Name', 'Abbreviation', 'Subject Area Name',\n",
       "       'Abbreviation.1', 'Div', 'School', 'are_classes'],\n",
       "      dtype='object')"
      ]
     },
     "execution_count": 30,
     "metadata": {},
     "output_type": "execute_result"
    }
   ],
   "source": [
    "df_majors = pd.read_csv(\"majors_to_scrape.csv\")\n",
    "\n",
    "school_dict = {\n",
    "    \"LS\": \"College of Letters and Science\",\n",
    "    \"AA\": \"School of the Arts and Architecture\",\n",
    "    \"EN\": \"School of Engineering\",\n",
    "    \"MN\": \"School of Medicine\",\n",
    "    \"PH\": \"School of Public Health\",\n",
    "    \"EI\": \"School of Education and Information Studies\",\n",
    "    \"MU\": \"School of Music\",\n",
    "    \"PA\": \"School of Public Affairs\",\n",
    "    \"LW\": \"School of Law\",\n",
    "    \"MG\": \"School of Management\",\n",
    "    \"NS\": \"School of Nursing\",\n",
    "    \"TF\": \"School of Theater, Film, and Television\"\n",
    "}\n",
    "\n",
    "prompt_stem_major = [\n",
    "    \"What school does the {prompt_keyword} major belong to?\",\n",
    "    \"Which school is the {prompt_keyword} major under?\",\n",
    "    \"Which school should I apply to in order to study the {prompt_keyword} major?\"\n",
    "    \"Which college or professional school houses the {prompt_keyword} major?\"\n",
    "]\n",
    "prompt_stem_department = [\n",
    "    \"What department does the {prompt_keyword} major fall under?\",\n",
    "    \"Which department has the {prompt_keyword} major?\",\n",
    "    \"To find out more about the {prompt_keyword} major, which department should I go to?\",\n",
    "    \"In order to enroll in the {prompt_keyword} major, which department should I speak to?\"\n",
    "]\n",
    "solution_stem_major = [\n",
    "    \"The {prompt_keyword} major belongs to the {answer_keyword}.\"\n",
    "]\n",
    "solution_stem_department = [\n",
    "    \"The {prompt_keyword} major falls under the Department of {answer_keyword}.\"\n",
    "]\n",
    "df_majors.columns"
   ]
  },
  {
   "cell_type": "code",
   "execution_count": 31,
   "id": "f11c830b",
   "metadata": {},
   "outputs": [],
   "source": [
    "# Compose two seperate jsons, one for major to school, the other for major to department\n",
    "# For each entry in JSON, create two prompts\n",
    "major_to_school_prompts = []\n",
    "major_to_department_prompts = []\n",
    "\n",
    "for i in range(len(df_majors)):\n",
    "    dep_name, maj_name, school_abbrev = df_majors.iloc[i]['Department Name'], df_majors.iloc[i]['Subject Area Name'], df_majors.iloc[i]['School']\n",
    "    school = school_dict[school_abbrev]\n",
    "    \n",
    "    # Generate two prompts per data entry\n",
    "    for i in range(2):\n",
    "        major_to_school_prompts.append(prompt_generator(prompt_stem_major, solution_stem_major, maj_name, school))\n",
    "        major_to_department_prompts.append(prompt_generator(prompt_stem_department, solution_stem_department, maj_name, dep_name))\n"
   ]
  },
  {
   "cell_type": "code",
   "execution_count": 34,
   "id": "ccd5ea53",
   "metadata": {},
   "outputs": [],
   "source": [
    "with open('prompts_major_school.json', 'w') as file:\n",
    "    # Write the list of dictionaries to file as JSON\n",
    "    json.dump(major_to_school_prompts, file, indent=4)\n",
    "\n",
    "with open('prompts_major_department.json', 'w') as file:\n",
    "    # Write the list of dictionaries to file as JSON\n",
    "    json.dump(major_to_department_prompts, file, indent=4)"
   ]
  },
  {
   "cell_type": "markdown",
   "id": "5ca49400",
   "metadata": {},
   "source": [
    "# Generating Datasets for Course Information"
   ]
  },
  {
   "cell_type": "code",
   "execution_count": 59,
   "id": "aff983c2",
   "metadata": {},
   "outputs": [
    {
     "data": {
      "text/html": [
       "<div>\n",
       "<style scoped>\n",
       "    .dataframe tbody tr th:only-of-type {\n",
       "        vertical-align: middle;\n",
       "    }\n",
       "\n",
       "    .dataframe tbody tr th {\n",
       "        vertical-align: top;\n",
       "    }\n",
       "\n",
       "    .dataframe thead th {\n",
       "        text-align: right;\n",
       "    }\n",
       "</style>\n",
       "<table border=\"1\" class=\"dataframe\">\n",
       "  <thead>\n",
       "    <tr style=\"text-align: right;\">\n",
       "      <th></th>\n",
       "      <th>class_name</th>\n",
       "      <th>class_dates</th>\n",
       "      <th>class_times</th>\n",
       "      <th>year</th>\n",
       "      <th>semester</th>\n",
       "      <th>lec</th>\n",
       "    </tr>\n",
       "  </thead>\n",
       "  <tbody>\n",
       "    <tr>\n",
       "      <th>0</th>\n",
       "      <td>Aerospace Studies (AERO ST) 1A - Heritage and ...</td>\n",
       "      <td>F</td>\n",
       "      <td>1pm-1:50pm</td>\n",
       "      <td>2020</td>\n",
       "      <td>fall</td>\n",
       "      <td>Lec 1</td>\n",
       "    </tr>\n",
       "    <tr>\n",
       "      <th>1</th>\n",
       "      <td>Aerospace Studies (AERO ST) 1A - Heritage and ...</td>\n",
       "      <td>T</td>\n",
       "      <td>9am-9:50am</td>\n",
       "      <td>2020</td>\n",
       "      <td>fall</td>\n",
       "      <td>Lec 2</td>\n",
       "    </tr>\n",
       "    <tr>\n",
       "      <th>2</th>\n",
       "      <td>Aerospace Studies (AERO ST) 20A - Team and Lea...</td>\n",
       "      <td>F</td>\n",
       "      <td>2pm-2:50pm</td>\n",
       "      <td>2020</td>\n",
       "      <td>fall</td>\n",
       "      <td>Lec 1</td>\n",
       "    </tr>\n",
       "    <tr>\n",
       "      <th>3</th>\n",
       "      <td>Aerospace Studies (AERO ST) 20A - Team and Lea...</td>\n",
       "      <td>W</td>\n",
       "      <td>1pm-1:50pm</td>\n",
       "      <td>2020</td>\n",
       "      <td>fall</td>\n",
       "      <td>Lec 2</td>\n",
       "    </tr>\n",
       "    <tr>\n",
       "      <th>4</th>\n",
       "      <td>Aerospace Studies (AERO ST) 130A - Air Force L...</td>\n",
       "      <td>T</td>\n",
       "      <td>8am-10:50am</td>\n",
       "      <td>2020</td>\n",
       "      <td>fall</td>\n",
       "      <td>Lec 1</td>\n",
       "    </tr>\n",
       "  </tbody>\n",
       "</table>\n",
       "</div>"
      ],
      "text/plain": [
       "                                          class_name class_dates  class_times  \\\n",
       "0  Aerospace Studies (AERO ST) 1A - Heritage and ...           F   1pm-1:50pm   \n",
       "1  Aerospace Studies (AERO ST) 1A - Heritage and ...           T   9am-9:50am   \n",
       "2  Aerospace Studies (AERO ST) 20A - Team and Lea...           F   2pm-2:50pm   \n",
       "3  Aerospace Studies (AERO ST) 20A - Team and Lea...           W   1pm-1:50pm   \n",
       "4  Aerospace Studies (AERO ST) 130A - Air Force L...           T  8am-10:50am   \n",
       "\n",
       "   year semester    lec  \n",
       "0  2020     fall  Lec 1  \n",
       "1  2020     fall  Lec 2  \n",
       "2  2020     fall  Lec 1  \n",
       "3  2020     fall  Lec 2  \n",
       "4  2020     fall  Lec 1  "
      ]
     },
     "execution_count": 59,
     "metadata": {},
     "output_type": "execute_result"
    }
   ],
   "source": [
    "df_classes = pd.read_csv('ucla_class_info.csv')\n",
    "df_classes = df_classes[df_classes['class_dates'].str.len() <= 5]\n",
    "\n",
    "df_classes['lec'] = df_classes['class_name'].str[-5:]\n",
    "df_classes['class_name'] = df_classes['class_name'].str[:-6]\n",
    "\n",
    "df_classes.head()"
   ]
  },
  {
   "cell_type": "code",
   "execution_count": 46,
   "id": "e3324dd2",
   "metadata": {},
   "outputs": [],
   "source": [
    "day_map = {\n",
    "    \"M\": \"Monday\",\n",
    "    \"T\": \"Tuesday\",\n",
    "    \"W\": \"Wednesday\",\n",
    "    \"R\": \"Thursday\",\n",
    "    \"F\": \"Friday\",\n",
    "    \"MT\": \"Monday Tuesday\",\n",
    "    \"MW\": \"Monday Wednesday\",\n",
    "    \"MR\": \"Monday Thursday\",\n",
    "    \"MF\": \"Monday Friday\",\n",
    "    \"TW\": \"Tuesday Wednesday\",\n",
    "    \"TR\": \"Tuesday Thursday\",\n",
    "    \"TF\": \"Tuesday Friday\",\n",
    "    \"WR\": \"Wednesday Thursday\",\n",
    "    \"WF\": \"Wednesday Friday\",\n",
    "    \"RF\": \"Thursday Friday\",\n",
    "    \"MTW\": \"Monday Tuesday Wednesday\",\n",
    "    \"MTR\": \"Monday Tuesday Thursday\",\n",
    "    \"MTF\": \"Monday Tuesday Friday\",\n",
    "    \"MWR\": \"Monday Wednesday Thursday\",\n",
    "    \"MWF\": \"Monday Wednesday Friday\",\n",
    "    \"MRF\": \"Monday Thursday Friday\",\n",
    "    \"TWR\": \"Tuesday Wednesday Thursday\",\n",
    "    \"TWF\": \"Tuesday Wednesday Friday\",\n",
    "    \"TRF\": \"Tuesday Thursday Friday\",\n",
    "    \"WRF\": \"Wednesday Thursday Friday\",\n",
    "    \"MTWR\": \"Monday Tuesday Wednesday Thursday\",\n",
    "    \"MTWF\": \"Monday Tuesday Wednesday Friday\",\n",
    "    \"MTRF\": \"Monday Tuesday Thursday Friday\",\n",
    "    \"MWRF\": \"Monday Wednesday Thursday Friday\",\n",
    "    \"TWRF\": \"Tuesday Wednesday Thursday Friday\",\n",
    "    \"MTWRF\": \"Monday Tuesday Wednesday Thursday Friday\"\n",
    "}\n",
    "\n",
    "\n",
    "def concat_class_string(lec, day, hour):\n",
    "    result_string = lec + \": \" + day_map[day] + \" at \" + hour\n",
    "    return result_string\n",
    "    "
   ]
  },
  {
   "cell_type": "code",
   "execution_count": 71,
   "id": "d4286c1d",
   "metadata": {},
   "outputs": [],
   "source": [
    "# concatenates time strings into string representation for language model\n",
    "df_classes['class_info_string'] = df_classes.apply(lambda row: concat_class_string(row['lec'], row['class_dates'], row['class_times']), axis=1)\n",
    "\n",
    "# aggregates into a dictionary of class names to a list of lecture times\n",
    "course_schedule_dict = df_classes.groupby('class_name')['class_info_string'].agg(set).to_dict()"
   ]
  },
  {
   "cell_type": "code",
   "execution_count": 72,
   "id": "2ad318a9",
   "metadata": {},
   "outputs": [],
   "source": [
    "prompt_stem_class = [\n",
    "    \"What lecture times are available for {prompt_keyword}?\",\n",
    "    \"What is the schedule like for {prompt_keyword}?\",\n",
    "    \"How many offerings are out there for {prompt_keyword}?\"\n",
    "    \"If I want to take {prompt_keyword}, what time slots do I need to free out?\"\n",
    "]\n",
    "answer_stem_class = [\n",
    "    \"The class {prompt_keyword} has the following time schedules:\\n{answer_keyword}\"\n",
    "]"
   ]
  },
  {
   "cell_type": "code",
   "execution_count": 78,
   "id": "4e0ced9d",
   "metadata": {},
   "outputs": [
    {
     "ename": "AttributeError",
     "evalue": "'set' object has no attribute 'join'",
     "output_type": "error",
     "traceback": [
      "\u001b[0;31m---------------------------------------------------------------------------\u001b[0m",
      "\u001b[0;31mAttributeError\u001b[0m                            Traceback (most recent call last)",
      "Cell \u001b[0;32mIn[78], line 10\u001b[0m\n\u001b[1;32m      8\u001b[0m class_title \u001b[38;5;241m=\u001b[39m class_name\u001b[38;5;241m.\u001b[39msplit(\u001b[38;5;124m'\u001b[39m\u001b[38;5;124m - \u001b[39m\u001b[38;5;124m'\u001b[39m)[\u001b[38;5;241m1\u001b[39m]\n\u001b[1;32m      9\u001b[0m prompt_keywords \u001b[38;5;241m=\u001b[39m [class_name, class_id, class_title]\n\u001b[0;32m---> 10\u001b[0m answer_keyword \u001b[38;5;241m=\u001b[39m course_schedule_dict[class_name]\u001b[38;5;241m.\u001b[39mjoin(\u001b[38;5;124m'\u001b[39m\u001b[38;5;130;01m\\n\u001b[39;00m\u001b[38;5;124m'\u001b[39m)\n\u001b[1;32m     12\u001b[0m \u001b[38;5;66;03m# Generate two prompts per data entry\u001b[39;00m\n\u001b[1;32m     13\u001b[0m \u001b[38;5;28;01mfor\u001b[39;00m i \u001b[38;5;129;01min\u001b[39;00m \u001b[38;5;28mrange\u001b[39m(\u001b[38;5;241m3\u001b[39m):\n",
      "\u001b[0;31mAttributeError\u001b[0m: 'set' object has no attribute 'join'"
     ]
    }
   ],
   "source": [
    "# Train for class id, class name, and combined\n",
    "\n",
    "class_prompts = []\n",
    "\n",
    "for i in range(len(df_majors)):\n",
    "    class_name = df_classes.iloc[i]['class_name']\n",
    "    class_id = class_name.split(' - ')[0]\n",
    "    class_title = class_name.split(' - ')[1]\n",
    "    prompt_keywords = [class_name, class_id, class_title]\n",
    "    answer_keyword = course_schedule_dict[class_name].join('\\n')\n",
    "\n",
    "    # Generate two prompts per data entry\n",
    "    for i in range(3):\n",
    "        class_prompts.append(prompt_generator(prompt_stem_class, answer_stem_class, prompt_keywords[i], answer_keyword))\n",
    "\n"
   ]
  },
  {
   "cell_type": "code",
   "execution_count": 77,
   "id": "1924ea84",
   "metadata": {},
   "outputs": [
    {
     "name": "stdout",
     "output_type": "stream",
     "text": [
      "[{'user': 'What lecture times are available for Aerospace Studies (AERO ST) 1A - Heritage and Values?', 'assistant': 'The class Aerospace Studies (AERO ST) 1A - Heritage and Values has the following time schedules:\\nLec 1: Friday at 1pm-1:50pm'}, {'user': 'What is the schedule like for Aerospace Studies (AERO ST) 1A?', 'assistant': 'The class Aerospace Studies (AERO ST) 1A has the following time schedules:\\nLec 1: Friday at 1pm-1:50pm'}, {'user': 'How many offerings are out there for Heritage and Values?If I want to take Heritage and Values, what time slots do I need to free out?', 'assistant': 'The class Heritage and Values has the following time schedules:\\nLec 1: Friday at 1pm-1:50pm'}]\n"
     ]
    }
   ],
   "source": [
    "print(class_prompts[:3])"
   ]
  },
  {
   "cell_type": "code",
   "execution_count": null,
   "id": "b1bebae8",
   "metadata": {},
   "outputs": [],
   "source": []
  }
 ],
 "metadata": {
  "kernelspec": {
   "display_name": "Python 3 (ipykernel)",
   "language": "python",
   "name": "python3"
  },
  "language_info": {
   "codemirror_mode": {
    "name": "ipython",
    "version": 3
   },
   "file_extension": ".py",
   "mimetype": "text/x-python",
   "name": "python",
   "nbconvert_exporter": "python",
   "pygments_lexer": "ipython3",
   "version": "3.11.4"
  }
 },
 "nbformat": 4,
 "nbformat_minor": 5
}
