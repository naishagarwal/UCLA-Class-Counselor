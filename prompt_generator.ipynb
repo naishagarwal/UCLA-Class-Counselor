{
 "cells": [
  {
   "cell_type": "code",
   "execution_count": 1,
   "id": "f50e1de8",
   "metadata": {},
   "outputs": [],
   "source": [
    "import random\n",
    "import pandas as pd\n",
    "import json"
   ]
  },
  {
   "cell_type": "code",
   "execution_count": 2,
   "id": "6f30b3b9",
   "metadata": {},
   "outputs": [],
   "source": [
    "\n",
    "def prompt_generator(prompt_stems, answer_stems, prompt_keyword, answer_keyword):\n",
    "    # Define the list of prompt stems\n",
    "   \n",
    "    # Randomly select a prompt stem and an answer stem\n",
    "    selected_prompt = random.choice(prompt_stems)\n",
    "    selected_answer = random.choice(answer_stems)\n",
    "    # Replace {course_name} and {answer} in the selected stems\n",
    "    user_prompt = selected_prompt.format(prompt_keyword=prompt_keyword)\n",
    "    assistant_response = selected_answer.format(prompt_keyword=prompt_keyword, answer_keyword=answer_keyword)\n",
    "    \n",
    "    # Return the results as a dictionary\n",
    "    return {\n",
    "        \"user\": user_prompt,\n",
    "        \"assistant\": assistant_response\n",
    "    }"
   ]
  },
  {
   "cell_type": "markdown",
   "id": "7d7850dd",
   "metadata": {},
   "source": [
    "# Generating datsets for Majors and Schools"
   ]
  },
  {
   "cell_type": "code",
   "execution_count": 30,
   "id": "ad2213d6",
   "metadata": {},
   "outputs": [
    {
     "data": {
      "text/plain": [
       "Index(['Department Name', 'Abbreviation', 'Subject Area Name',\n",
       "       'Abbreviation.1', 'Div', 'School', 'are_classes'],\n",
       "      dtype='object')"
      ]
     },
     "execution_count": 30,
     "metadata": {},
     "output_type": "execute_result"
    }
   ],
   "source": [
    "df_majors = pd.read_csv(\"majors_to_scrape.csv\")\n",
    "\n",
    "school_dict = {\n",
    "    \"LS\": \"College of Letters and Science\",\n",
    "    \"AA\": \"School of the Arts and Architecture\",\n",
    "    \"EN\": \"School of Engineering\",\n",
    "    \"MN\": \"School of Medicine\",\n",
    "    \"PH\": \"School of Public Health\",\n",
    "    \"EI\": \"School of Education and Information Studies\",\n",
    "    \"MU\": \"School of Music\",\n",
    "    \"PA\": \"School of Public Affairs\",\n",
    "    \"LW\": \"School of Law\",\n",
    "    \"MG\": \"School of Management\",\n",
    "    \"NS\": \"School of Nursing\",\n",
    "    \"TF\": \"School of Theater, Film, and Television\"\n",
    "}\n",
    "\n",
    "prompt_stem_major = [\n",
    "    \"What school does the {prompt_keyword} major belong to?\",\n",
    "    \"Which school is the {prompt_keyword} major under?\",\n",
    "    \"Which school should I apply to in order to study the {prompt_keyword} major?\"\n",
    "    \"Which college or professional school houses the {prompt_keyword} major?\"\n",
    "]\n",
    "prompt_stem_department = [\n",
    "    \"What department does the {prompt_keyword} major fall under?\",\n",
    "    \"Which department has the {prompt_keyword} major?\",\n",
    "    \"To find out more about the {prompt_keyword} major, which department should I go to?\",\n",
    "    \"In order to enroll in the {prompt_keyword} major, which department should I speak to?\"\n",
    "]\n",
    "solution_stem_major = [\n",
    "    \"The {prompt_keyword} major belongs to the {answer_keyword}.\"\n",
    "]\n",
    "solution_stem_department = [\n",
    "    \"The {prompt_keyword} major falls under the Department of {answer_keyword}.\"\n",
    "]\n",
    "df_majors.columns"
   ]
  },
  {
   "cell_type": "code",
   "execution_count": 31,
   "id": "2322f1b9",
   "metadata": {},
   "outputs": [],
   "source": [
    "# Compose two seperate jsons, one for major to school, the other for major to department\n",
    "# For each entry in JSON, create two prompts\n",
    "major_to_school_prompts = []\n",
    "major_to_department_prompts = []\n",
    "\n",
    "for i in range(len(df_majors)):\n",
    "    dep_name, maj_name, school_abbrev = df_majors.iloc[i]['Department Name'], df_majors.iloc[i]['Subject Area Name'], df_majors.iloc[i]['School']\n",
    "    school = school_dict[school_abbrev]\n",
    "    \n",
    "    # Generate two prompts per data entry\n",
    "    for i in range(2):\n",
    "        major_to_school_prompts.append(prompt_generator(prompt_stem_major, solution_stem_major, maj_name, school))\n",
    "        major_to_department_prompts.append(prompt_generator(prompt_stem_department, solution_stem_department, maj_name, dep_name))\n"
   ]
  },
  {
   "cell_type": "code",
   "execution_count": 34,
   "id": "159910ce",
   "metadata": {},
   "outputs": [],
   "source": [
    "with open('prompts_major_school.json', 'w') as file:\n",
    "    # Write the list of dictionaries to file as JSON\n",
    "    json.dump(major_to_school_prompts, file, indent=4)\n",
    "\n",
    "with open('prompts_major_department.json', 'w') as file:\n",
    "    # Write the list of dictionaries to file as JSON\n",
    "    json.dump(major_to_department_prompts, file, indent=4)"
   ]
  },
  {
   "cell_type": "markdown",
   "id": "b92216dd",
   "metadata": {},
   "source": [
    "# Generating Datasets for Course Information"
   ]
  },
  {
   "cell_type": "code",
   "execution_count": 3,
   "id": "885ffa28",
   "metadata": {},
   "outputs": [
    {
     "data": {
      "text/html": [
       "<div>\n",
       "<style scoped>\n",
       "    .dataframe tbody tr th:only-of-type {\n",
       "        vertical-align: middle;\n",
       "    }\n",
       "\n",
       "    .dataframe tbody tr th {\n",
       "        vertical-align: top;\n",
       "    }\n",
       "\n",
       "    .dataframe thead th {\n",
       "        text-align: right;\n",
       "    }\n",
       "</style>\n",
       "<table border=\"1\" class=\"dataframe\">\n",
       "  <thead>\n",
       "    <tr style=\"text-align: right;\">\n",
       "      <th></th>\n",
       "      <th>class_name</th>\n",
       "      <th>class_dates</th>\n",
       "      <th>class_times</th>\n",
       "      <th>year</th>\n",
       "      <th>semester</th>\n",
       "      <th>lec</th>\n",
       "      <th>year_semester</th>\n",
       "    </tr>\n",
       "  </thead>\n",
       "  <tbody>\n",
       "    <tr>\n",
       "      <th>0</th>\n",
       "      <td>Aerospace Studies (AERO ST) 1A - Heritage and ...</td>\n",
       "      <td>F</td>\n",
       "      <td>1pm-1:50pm</td>\n",
       "      <td>2020</td>\n",
       "      <td>fall</td>\n",
       "      <td>Lec 1</td>\n",
       "      <td>2020 fall</td>\n",
       "    </tr>\n",
       "    <tr>\n",
       "      <th>1</th>\n",
       "      <td>Aerospace Studies (AERO ST) 1A - Heritage and ...</td>\n",
       "      <td>T</td>\n",
       "      <td>9am-9:50am</td>\n",
       "      <td>2020</td>\n",
       "      <td>fall</td>\n",
       "      <td>Lec 2</td>\n",
       "      <td>2020 fall</td>\n",
       "    </tr>\n",
       "    <tr>\n",
       "      <th>2</th>\n",
       "      <td>Aerospace Studies (AERO ST) 20A - Team and Lea...</td>\n",
       "      <td>F</td>\n",
       "      <td>2pm-2:50pm</td>\n",
       "      <td>2020</td>\n",
       "      <td>fall</td>\n",
       "      <td>Lec 1</td>\n",
       "      <td>2020 fall</td>\n",
       "    </tr>\n",
       "    <tr>\n",
       "      <th>3</th>\n",
       "      <td>Aerospace Studies (AERO ST) 20A - Team and Lea...</td>\n",
       "      <td>W</td>\n",
       "      <td>1pm-1:50pm</td>\n",
       "      <td>2020</td>\n",
       "      <td>fall</td>\n",
       "      <td>Lec 2</td>\n",
       "      <td>2020 fall</td>\n",
       "    </tr>\n",
       "    <tr>\n",
       "      <th>4</th>\n",
       "      <td>Aerospace Studies (AERO ST) 130A - Air Force L...</td>\n",
       "      <td>T</td>\n",
       "      <td>8am-10:50am</td>\n",
       "      <td>2020</td>\n",
       "      <td>fall</td>\n",
       "      <td>Lec 1</td>\n",
       "      <td>2020 fall</td>\n",
       "    </tr>\n",
       "  </tbody>\n",
       "</table>\n",
       "</div>"
      ],
      "text/plain": [
       "                                          class_name class_dates  class_times  \\\n",
       "0  Aerospace Studies (AERO ST) 1A - Heritage and ...           F   1pm-1:50pm   \n",
       "1  Aerospace Studies (AERO ST) 1A - Heritage and ...           T   9am-9:50am   \n",
       "2  Aerospace Studies (AERO ST) 20A - Team and Lea...           F   2pm-2:50pm   \n",
       "3  Aerospace Studies (AERO ST) 20A - Team and Lea...           W   1pm-1:50pm   \n",
       "4  Aerospace Studies (AERO ST) 130A - Air Force L...           T  8am-10:50am   \n",
       "\n",
       "   year semester    lec year_semester  \n",
       "0  2020     fall  Lec 1     2020 fall  \n",
       "1  2020     fall  Lec 2     2020 fall  \n",
       "2  2020     fall  Lec 1     2020 fall  \n",
       "3  2020     fall  Lec 2     2020 fall  \n",
       "4  2020     fall  Lec 1     2020 fall  "
      ]
     },
     "execution_count": 3,
     "metadata": {},
     "output_type": "execute_result"
    }
   ],
   "source": [
    "df_classes = pd.read_csv('ucla_class_info.csv')\n",
    "df_classes = df_classes[df_classes['class_dates'].str.len() <= 5]\n",
    "\n",
    "df_classes['lec'] = df_classes['class_name'].str[-5:]\n",
    "df_classes['class_name'] = df_classes['class_name'].str[:-6]\n",
    "df_classes['year_semester'] = df_classes.apply(lambda row: (str(row['year']) + \" \" + row['semester']), axis=1)\n",
    "\n",
    "df_classes.head()"
   ]
  },
  {
   "cell_type": "code",
   "execution_count": 4,
   "id": "9f13fa0f",
   "metadata": {},
   "outputs": [],
   "source": [
    "day_map = {\n",
    "    \"M\": \"Monday\",\n",
    "    \"T\": \"Tuesday\",\n",
    "    \"W\": \"Wednesday\",\n",
    "    \"R\": \"Thursday\",\n",
    "    \"F\": \"Friday\",\n",
    "    \"MT\": \"Monday Tuesday\",\n",
    "    \"MW\": \"Monday Wednesday\",\n",
    "    \"MR\": \"Monday Thursday\",\n",
    "    \"MF\": \"Monday Friday\",\n",
    "    \"TW\": \"Tuesday Wednesday\",\n",
    "    \"TR\": \"Tuesday Thursday\",\n",
    "    \"TF\": \"Tuesday Friday\",\n",
    "    \"WR\": \"Wednesday Thursday\",\n",
    "    \"WF\": \"Wednesday Friday\",\n",
    "    \"RF\": \"Thursday Friday\",\n",
    "    \"MTW\": \"Monday Tuesday Wednesday\",\n",
    "    \"MTR\": \"Monday Tuesday Thursday\",\n",
    "    \"MTF\": \"Monday Tuesday Friday\",\n",
    "    \"MWR\": \"Monday Wednesday Thursday\",\n",
    "    \"MWF\": \"Monday Wednesday Friday\",\n",
    "    \"MRF\": \"Monday Thursday Friday\",\n",
    "    \"TWR\": \"Tuesday Wednesday Thursday\",\n",
    "    \"TWF\": \"Tuesday Wednesday Friday\",\n",
    "    \"TRF\": \"Tuesday Thursday Friday\",\n",
    "    \"WRF\": \"Wednesday Thursday Friday\",\n",
    "    \"MTWR\": \"Monday Tuesday Wednesday Thursday\",\n",
    "    \"MTWF\": \"Monday Tuesday Wednesday Friday\",\n",
    "    \"MTRF\": \"Monday Tuesday Thursday Friday\",\n",
    "    \"MWRF\": \"Monday Wednesday Thursday Friday\",\n",
    "    \"TWRF\": \"Tuesday Wednesday Thursday Friday\",\n",
    "    \"MTWRF\": \"Monday Tuesday Wednesday Thursday Friday\"\n",
    "}\n",
    "\n",
    "\n",
    "def concat_class_string(lec, day, hour):\n",
    "    result_string = lec + \": \" + day_map[day] + \" at \" + hour\n",
    "    return result_string\n",
    "    "
   ]
  },
  {
   "cell_type": "code",
   "execution_count": 14,
   "id": "c608266b",
   "metadata": {},
   "outputs": [
    {
     "data": {
      "text/plain": [
       "class_name                                                                                year_semester\n",
       "Aerospace Studies (AERO ST) 130A - Air Force Leadership Studies                           2020 fall        [Lec 1: Tuesday at 8am-10:50am]\n",
       "                                                                                          2021 fall          [Lec 1: Friday at 1pm-3:50pm]\n",
       "                                                                                          2022 fall          [Lec 1: Friday at 1pm-3:50pm]\n",
       "                                                                                          2023 fall         [Lec 1: Friday at 12pm-2:50pm]\n",
       "Aerospace Studies (AERO ST) 130B - Air Force Leadership Studies                           2020 winter       [Lec 1: Friday at 12pm-2:50pm]\n",
       "                                                                                          2021 winter        [Lec 1: Friday at 1pm-3:50pm]\n",
       "                                                                                          2022 winter        [Lec 1: Friday at 1pm-3:50pm]\n",
       "                                                                                          2023 winter      [Lec 1: Friday at 10am-12:50pm]\n",
       "                                                                                          2024 winter       [Lec 1: Friday at 12pm-2:50pm]\n",
       "Aerospace Studies (AERO ST) 130C - Air Force Leadership Studies                           2020 spring       [Lec 1: Friday at 12pm-2:50pm]\n",
       "                                                                                          2021 spring        [Lec 1: Friday at 1pm-3:50pm]\n",
       "                                                                                          2022 spring        [Lec 1: Friday at 1pm-3:50pm]\n",
       "                                                                                          2023 spring       [Lec 1: Friday at 12pm-2:30pm]\n",
       "                                                                                          2024 spring       [Lec 1: Friday at 12pm-2:50pm]\n",
       "Aerospace Studies (AERO ST) 140A - National Security Affairs/Preparation for Active Duty  2020 fall          [Lec 1: Friday at 1pm-3:50pm]\n",
       "                                                                                          2021 fall          [Lec 1: Friday at 1pm-3:50pm]\n",
       "                                                                                          2022 fall          [Lec 1: Friday at 1pm-3:50pm]\n",
       "                                                                                          2023 fall         [Lec 1: Friday at 12pm-2:50pm]\n",
       "Aerospace Studies (AERO ST) 140B - National Security Affairs/Preparation for Active Duty  2020 winter       [Lec 1: Friday at 12pm-2:50pm]\n",
       "                                                                                          2021 winter        [Lec 1: Friday at 1pm-3:50pm]\n",
       "Name: class_info_string, dtype: object"
      ]
     },
     "execution_count": 14,
     "metadata": {},
     "output_type": "execute_result"
    }
   ],
   "source": [
    "# concatenates time strings into string representation for language model\n",
    "df_classes['class_info_string'] = df_classes.apply(lambda row: concat_class_string(row['lec'], row['class_dates'], row['class_times']), axis=1)\n",
    "\n",
    "# aggregates into a dictionary of class names to a list of lecture times\n",
    "grouped = df_classes.groupby(['class_name', 'year_semester'])['class_info_string'].agg(list)\n",
    "\n",
    "nested_schedule = {}\n",
    "for (class_name, semester), info in grouped.items():\n",
    "    if class_name not in nested_schedule:\n",
    "        nested_schedule[class_name] = {}\n",
    "    nested_schedule[class_name][semester] = info\n",
    "\n",
    "# print(nested_schedule['Aerospace Studies (AERO ST) 130A - Air Force Leadership Studies'])\n",
    "grouped.head(20)"
   ]
  },
  {
   "cell_type": "code",
   "execution_count": 9,
   "id": "10c76fb6",
   "metadata": {},
   "outputs": [],
   "source": [
    "def class_schedule_to_string(class_name, class_schedule):\n",
    "    quarters = len(class_schedule)\n",
    "    output = f\"{class_name} is offered in {quarters} quarters. \"\n",
    "    \n",
    "    for quarter, lectures in class_schedule.items():\n",
    "        output += f\"In {quarter} quarter, \"\n",
    "        lecture_details = []\n",
    "        for lecture in lectures:\n",
    "            lecture_number, lecture_time = lecture.split(': ', 1)\n",
    "            lecture_details.append(f\"{lecture_number} is offered on {lecture_time}\")\n",
    "        output += \", and \".join(lecture_details) + \". \"\n",
    "    \n",
    "    return output.strip()\n"
   ]
  },
  {
   "cell_type": "code",
   "execution_count": 15,
   "id": "b1e68921",
   "metadata": {},
   "outputs": [
    {
     "name": "stdout",
     "output_type": "stream",
     "text": [
      "4505\n"
     ]
    }
   ],
   "source": [
    "# Creating txt files from the dictionary and dataframe\n",
    "\n",
    "embedding_sentences = []\n",
    "\n",
    "for class_name in nested_schedule:\n",
    "    class_id = class_name.split(' - ')[0]\n",
    "    class_title = class_name.split(' - ')[1]\n",
    "    class_schedule = nested_schedule[class_name]\n",
    "    definition_string = f\"{class_name} has class ID {class_id}. {class_name} has class title {class_id}. \" \n",
    "    definition_string += class_schedule_to_string(class_name, class_schedule)\n",
    "    embedding_sentences.append(definition_string)\n",
    "\n",
    "print(len(embedding_sentences))"
   ]
  },
  {
   "cell_type": "code",
   "execution_count": 48,
   "id": "09bcb073",
   "metadata": {},
   "outputs": [],
   "source": [
    "prompt_stem_class = [\n",
    "    \"What lecture times are available for {prompt_keyword}?\",\n",
    "    \"What is the schedule like for {prompt_keyword}?\",\n",
    "    \"How many offerings are out there for {prompt_keyword}?\",\n",
    "    \"If I want to take {prompt_keyword}, what time slots do I need to free out?\"\n",
    "]\n",
    "answer_stem_class = [\n",
    "    \"The class {prompt_keyword} has the following time schedules:\\n\\n{answer_keyword}\"\n",
    "]"
   ]
  },
  {
   "cell_type": "code",
   "execution_count": 49,
   "id": "c5adb987",
   "metadata": {},
   "outputs": [],
   "source": [
    "# Train for class id, class name, and combined\n",
    "\n",
    "class_prompts = []\n",
    "\n",
    "for class_name in nested_schedule:\n",
    "    class_id = class_name.split(' - ')[0]\n",
    "    class_title = class_name.split(' - ')[1]\n",
    "    prompt_keywords = [class_name, class_id, class_title]\n",
    "    answer_keyword = \"\"\n",
    "    for semester in nested_schedule[class_name]:\n",
    "        answer_keyword += \"In \" + semester + \" quarter:\\n\"\n",
    "        answer_keyword += '\\n'.join(nested_schedule[class_name][semester])\n",
    "        answer_keyword += \"\\n\\n\"\n",
    "\n",
    "    # Generate two prompts per data entry\n",
    "    for i in range(3):\n",
    "        class_prompts.append(prompt_generator(prompt_stem_class, answer_stem_class, prompt_keywords[i], answer_keyword))\n",
    "\n"
   ]
  },
  {
   "cell_type": "code",
   "execution_count": 50,
   "id": "1ac43d2a",
   "metadata": {},
   "outputs": [],
   "source": [
    "with open('prompts_classes.json', 'w') as file:\n",
    "    # Write the list of dictionaries to file as JSON\n",
    "    json.dump(class_prompts, file, indent=4)"
   ]
  },
  {
   "cell_type": "code",
   "execution_count": 47,
   "id": "34814367",
   "metadata": {},
   "outputs": [
    {
     "name": "stdout",
     "output_type": "stream",
     "text": [
      "13515\n"
     ]
    },
    {
     "ename": "NameError",
     "evalue": "name 'major_to_school_prompts' is not defined",
     "output_type": "error",
     "traceback": [
      "\u001b[0;31m---------------------------------------------------------------------------\u001b[0m",
      "\u001b[0;31mNameError\u001b[0m                                 Traceback (most recent call last)",
      "Cell \u001b[0;32mIn[47], line 2\u001b[0m\n\u001b[1;32m      1\u001b[0m \u001b[38;5;28mprint\u001b[39m(\u001b[38;5;28mlen\u001b[39m(class_prompts))\n\u001b[0;32m----> 2\u001b[0m \u001b[38;5;28mprint\u001b[39m(\u001b[38;5;28mlen\u001b[39m(major_to_school_prompts))\n\u001b[1;32m      3\u001b[0m \u001b[38;5;28mprint\u001b[39m(\u001b[38;5;28mlen\u001b[39m(major_to_department_prompts))\n",
      "\u001b[0;31mNameError\u001b[0m: name 'major_to_school_prompts' is not defined"
     ]
    }
   ],
   "source": [
    "print(len(class_prompts))\n",
    "print(len(major_to_school_prompts))\n",
    "print(len(major_to_department_prompts))"
   ]
  },
  {
   "cell_type": "code",
   "execution_count": null,
   "id": "093d9a4a",
   "metadata": {},
   "outputs": [],
   "source": []
  }
 ],
 "metadata": {
  "kernelspec": {
   "display_name": "Python 3 (ipykernel)",
   "language": "python",
   "name": "python3"
  },
  "language_info": {
   "codemirror_mode": {
    "name": "ipython",
    "version": 3
   },
   "file_extension": ".py",
   "mimetype": "text/x-python",
   "name": "python",
   "nbconvert_exporter": "python",
   "pygments_lexer": "ipython3",
   "version": "3.11.4"
  }
 },
 "nbformat": 4,
 "nbformat_minor": 5
}
