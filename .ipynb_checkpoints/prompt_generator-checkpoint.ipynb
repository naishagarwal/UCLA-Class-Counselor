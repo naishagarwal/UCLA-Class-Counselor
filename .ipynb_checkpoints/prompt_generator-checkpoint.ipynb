{
 "cells": [
  {
   "cell_type": "code",
   "execution_count": 33,
   "id": "140d1663",
   "metadata": {},
   "outputs": [],
   "source": [
    "import random\n",
    "import pandas as pd\n",
    "import json"
   ]
  },
  {
   "cell_type": "code",
   "execution_count": 25,
   "id": "f0e030d9",
   "metadata": {},
   "outputs": [],
   "source": [
    "\n",
    "def prompt_generator(prompt_stems, answer_stems, prompt_keyword, answer_keyword):\n",
    "    # Define the list of prompt stems\n",
    "   \n",
    "    # Randomly select a prompt stem and an answer stem\n",
    "    selected_prompt = random.choice(prompt_stems)\n",
    "    selected_answer = random.choice(answer_stems)\n",
    "    # Replace {course_name} and {answer} in the selected stems\n",
    "    user_prompt = selected_prompt.format(prompt_keyword=prompt_keyword)\n",
    "    assistant_response = selected_answer.format(prompt_keyword=prompt_keyword, answer_keyword=answer_keyword)\n",
    "    \n",
    "    # Return the results as a dictionary\n",
    "    return {\n",
    "        \"user\": user_prompt,\n",
    "        \"assistant\": assistant_response\n",
    "    }"
   ]
  },
  {
   "cell_type": "markdown",
   "id": "b2c412d9",
   "metadata": {},
   "source": [
    "# Generating datsets for Majors and Schools"
   ]
  },
  {
   "cell_type": "code",
   "execution_count": 30,
   "id": "c431e9d9",
   "metadata": {},
   "outputs": [
    {
     "data": {
      "text/plain": [
       "Index(['Department Name', 'Abbreviation', 'Subject Area Name',\n",
       "       'Abbreviation.1', 'Div', 'School', 'are_classes'],\n",
       "      dtype='object')"
      ]
     },
     "execution_count": 30,
     "metadata": {},
     "output_type": "execute_result"
    }
   ],
   "source": [
    "df_majors = pd.read_csv(\"majors_to_scrape.csv\")\n",
    "\n",
    "school_dict = {\n",
    "    \"LS\": \"College of Letters and Science\",\n",
    "    \"AA\": \"School of the Arts and Architecture\",\n",
    "    \"EN\": \"School of Engineering\",\n",
    "    \"MN\": \"School of Medicine\",\n",
    "    \"PH\": \"School of Public Health\",\n",
    "    \"EI\": \"School of Education and Information Studies\",\n",
    "    \"MU\": \"School of Music\",\n",
    "    \"PA\": \"School of Public Affairs\",\n",
    "    \"LW\": \"School of Law\",\n",
    "    \"MG\": \"School of Management\",\n",
    "    \"NS\": \"School of Nursing\",\n",
    "    \"TF\": \"School of Theater, Film, and Television\"\n",
    "}\n",
    "\n",
    "prompt_stem_major = [\n",
    "    \"What school does the {prompt_keyword} major belong to?\",\n",
    "    \"Which school is the {prompt_keyword} major under?\",\n",
    "    \"Which school should I apply to in order to study the {prompt_keyword} major?\"\n",
    "    \"Which college or professional school houses the {prompt_keyword} major?\"\n",
    "]\n",
    "prompt_stem_department = [\n",
    "    \"What department does the {prompt_keyword} major fall under?\",\n",
    "    \"Which department has the {prompt_keyword} major?\",\n",
    "    \"To find out more about the {prompt_keyword} major, which department should I go to?\",\n",
    "    \"In order to enroll in the {prompt_keyword} major, which department should I speak to?\"\n",
    "]\n",
    "solution_stem_major = [\n",
    "    \"The {prompt_keyword} major belongs to the {answer_keyword}.\"\n",
    "]\n",
    "solution_stem_department = [\n",
    "    \"The {prompt_keyword} major falls under the Department of {answer_keyword}.\"\n",
    "]\n",
    "df_majors.columns"
   ]
  },
  {
   "cell_type": "code",
   "execution_count": 31,
   "id": "2c404c6e",
   "metadata": {},
   "outputs": [],
   "source": [
    "# Compose two seperate jsons, one for major to school, the other for major to department\n",
    "# For each entry in JSON, create two prompts\n",
    "major_to_school_prompts = []\n",
    "major_to_department_prompts = []\n",
    "\n",
    "for i in range(len(df_majors)):\n",
    "    dep_name, maj_name, school_abbrev = df_majors.iloc[i]['Department Name'], df_majors.iloc[i]['Subject Area Name'], df_majors.iloc[i]['School']\n",
    "    school = school_dict[school_abbrev]\n",
    "    \n",
    "    # Generate two prompts per data entry\n",
    "    for i in range(2):\n",
    "        major_to_school_prompts.append(prompt_generator(prompt_stem_major, solution_stem_major, maj_name, school))\n",
    "        major_to_department_prompts.append(prompt_generator(prompt_stem_department, solution_stem_department, maj_name, dep_name))\n"
   ]
  },
  {
   "cell_type": "code",
   "execution_count": 34,
   "id": "02db7057",
   "metadata": {},
   "outputs": [],
   "source": [
    "with open('prompts_major_school.json', 'w') as file:\n",
    "    # Write the list of dictionaries to file as JSON\n",
    "    json.dump(major_to_school_prompts, file, indent=4)\n",
    "\n",
    "with open('prompts_major_department.json', 'w') as file:\n",
    "    # Write the list of dictionaries to file as JSON\n",
    "    json.dump(major_to_department_prompts, file, indent=4)"
   ]
  },
  {
   "cell_type": "markdown",
   "id": "41b9a79e",
   "metadata": {},
   "source": [
    "# Generating Datasets for Course Information"
   ]
  },
  {
   "cell_type": "code",
   "execution_count": 59,
   "id": "acb39c07",
   "metadata": {},
   "outputs": [
    {
     "data": {
      "text/html": [
       "<div>\n",
       "<style scoped>\n",
       "    .dataframe tbody tr th:only-of-type {\n",
       "        vertical-align: middle;\n",
       "    }\n",
       "\n",
       "    .dataframe tbody tr th {\n",
       "        vertical-align: top;\n",
       "    }\n",
       "\n",
       "    .dataframe thead th {\n",
       "        text-align: right;\n",
       "    }\n",
       "</style>\n",
       "<table border=\"1\" class=\"dataframe\">\n",
       "  <thead>\n",
       "    <tr style=\"text-align: right;\">\n",
       "      <th></th>\n",
       "      <th>class_name</th>\n",
       "      <th>class_dates</th>\n",
       "      <th>class_times</th>\n",
       "      <th>year</th>\n",
       "      <th>semester</th>\n",
       "      <th>lec</th>\n",
       "    </tr>\n",
       "  </thead>\n",
       "  <tbody>\n",
       "    <tr>\n",
       "      <th>0</th>\n",
       "      <td>Aerospace Studies (AERO ST) 1A - Heritage and ...</td>\n",
       "      <td>F</td>\n",
       "      <td>1pm-1:50pm</td>\n",
       "      <td>2020</td>\n",
       "      <td>fall</td>\n",
       "      <td>Lec 1</td>\n",
       "    </tr>\n",
       "    <tr>\n",
       "      <th>1</th>\n",
       "      <td>Aerospace Studies (AERO ST) 1A - Heritage and ...</td>\n",
       "      <td>T</td>\n",
       "      <td>9am-9:50am</td>\n",
       "      <td>2020</td>\n",
       "      <td>fall</td>\n",
       "      <td>Lec 2</td>\n",
       "    </tr>\n",
       "    <tr>\n",
       "      <th>2</th>\n",
       "      <td>Aerospace Studies (AERO ST) 20A - Team and Lea...</td>\n",
       "      <td>F</td>\n",
       "      <td>2pm-2:50pm</td>\n",
       "      <td>2020</td>\n",
       "      <td>fall</td>\n",
       "      <td>Lec 1</td>\n",
       "    </tr>\n",
       "    <tr>\n",
       "      <th>3</th>\n",
       "      <td>Aerospace Studies (AERO ST) 20A - Team and Lea...</td>\n",
       "      <td>W</td>\n",
       "      <td>1pm-1:50pm</td>\n",
       "      <td>2020</td>\n",
       "      <td>fall</td>\n",
       "      <td>Lec 2</td>\n",
       "    </tr>\n",
       "    <tr>\n",
       "      <th>4</th>\n",
       "      <td>Aerospace Studies (AERO ST) 130A - Air Force L...</td>\n",
       "      <td>T</td>\n",
       "      <td>8am-10:50am</td>\n",
       "      <td>2020</td>\n",
       "      <td>fall</td>\n",
       "      <td>Lec 1</td>\n",
       "    </tr>\n",
       "  </tbody>\n",
       "</table>\n",
       "</div>"
      ],
      "text/plain": [
       "                                          class_name class_dates  class_times  \\\n",
       "0  Aerospace Studies (AERO ST) 1A - Heritage and ...           F   1pm-1:50pm   \n",
       "1  Aerospace Studies (AERO ST) 1A - Heritage and ...           T   9am-9:50am   \n",
       "2  Aerospace Studies (AERO ST) 20A - Team and Lea...           F   2pm-2:50pm   \n",
       "3  Aerospace Studies (AERO ST) 20A - Team and Lea...           W   1pm-1:50pm   \n",
       "4  Aerospace Studies (AERO ST) 130A - Air Force L...           T  8am-10:50am   \n",
       "\n",
       "   year semester    lec  \n",
       "0  2020     fall  Lec 1  \n",
       "1  2020     fall  Lec 2  \n",
       "2  2020     fall  Lec 1  \n",
       "3  2020     fall  Lec 2  \n",
       "4  2020     fall  Lec 1  "
      ]
     },
     "execution_count": 59,
     "metadata": {},
     "output_type": "execute_result"
    }
   ],
   "source": [
    "df_classes = pd.read_csv('ucla_class_info.csv')\n",
    "df_classes = df_classes[df_classes['class_dates'].str.len() <= 5]\n",
    "\n",
    "df_classes['lec'] = df_classes['class_name'].str[-5:]\n",
    "df_classes['class_name'] = df_classes['class_name'].str[:-6]\n",
    "\n",
    "df_classes.head()"
   ]
  },
  {
   "cell_type": "code",
   "execution_count": 46,
   "id": "176dbce7",
   "metadata": {},
   "outputs": [],
   "source": [
    "day_map = {\n",
    "    \"M\": \"Monday\",\n",
    "    \"T\": \"Tuesday\",\n",
    "    \"W\": \"Wednesday\",\n",
    "    \"R\": \"Thursday\",\n",
    "    \"F\": \"Friday\",\n",
    "    \"MT\": \"Monday Tuesday\",\n",
    "    \"MW\": \"Monday Wednesday\",\n",
    "    \"MR\": \"Monday Thursday\",\n",
    "    \"MF\": \"Monday Friday\",\n",
    "    \"TW\": \"Tuesday Wednesday\",\n",
    "    \"TR\": \"Tuesday Thursday\",\n",
    "    \"TF\": \"Tuesday Friday\",\n",
    "    \"WR\": \"Wednesday Thursday\",\n",
    "    \"WF\": \"Wednesday Friday\",\n",
    "    \"RF\": \"Thursday Friday\",\n",
    "    \"MTW\": \"Monday Tuesday Wednesday\",\n",
    "    \"MTR\": \"Monday Tuesday Thursday\",\n",
    "    \"MTF\": \"Monday Tuesday Friday\",\n",
    "    \"MWR\": \"Monday Wednesday Thursday\",\n",
    "    \"MWF\": \"Monday Wednesday Friday\",\n",
    "    \"MRF\": \"Monday Thursday Friday\",\n",
    "    \"TWR\": \"Tuesday Wednesday Thursday\",\n",
    "    \"TWF\": \"Tuesday Wednesday Friday\",\n",
    "    \"TRF\": \"Tuesday Thursday Friday\",\n",
    "    \"WRF\": \"Wednesday Thursday Friday\",\n",
    "    \"MTWR\": \"Monday Tuesday Wednesday Thursday\",\n",
    "    \"MTWF\": \"Monday Tuesday Wednesday Friday\",\n",
    "    \"MTRF\": \"Monday Tuesday Thursday Friday\",\n",
    "    \"MWRF\": \"Monday Wednesday Thursday Friday\",\n",
    "    \"TWRF\": \"Tuesday Wednesday Thursday Friday\",\n",
    "    \"MTWRF\": \"Monday Tuesday Wednesday Thursday Friday\"\n",
    "}\n",
    "\n",
    "\n",
    "def concat_class_string(lec, day, hour):\n",
    "    result_string = lec + \": \" + day_map[day] + \" at \" + hour\n",
    "    return result_string\n",
    "    "
   ]
  },
  {
   "cell_type": "code",
   "execution_count": 70,
   "id": "f2621367",
   "metadata": {},
   "outputs": [
    {
     "name": "stdout",
     "output_type": "stream",
     "text": [
      "{'Lec 1: Friday at 1pm-1:50pm', 'Lec 1: Friday at 12pm-12:50pm', 'Lec 2: Tuesday at 9am-9:50am'}\n"
     ]
    }
   ],
   "source": [
    "# concatenates time strings into string representation for language model\n",
    "df_classes['class_info_string'] = df_classes.apply(lambda row: concat_class_string(row['lec'], row['class_dates'], row['class_times']), axis=1)\n",
    "\n",
    "# aggregates into a dictionary of class names to a list of lecture times\n",
    "course_schedule_dict = df_classes.groupby('class_name')['class_info_string'].agg(set).to_dict()\n",
    "print(course_schedule_dict['Aerospace Studies (AERO ST) 1A - Heritage and Values'])"
   ]
  },
  {
   "cell_type": "code",
   "execution_count": null,
   "id": "9e0b83e2",
   "metadata": {},
   "outputs": [],
   "source": []
  }
 ],
 "metadata": {
  "kernelspec": {
   "display_name": "Python 3 (ipykernel)",
   "language": "python",
   "name": "python3"
  },
  "language_info": {
   "codemirror_mode": {
    "name": "ipython",
    "version": 3
   },
   "file_extension": ".py",
   "mimetype": "text/x-python",
   "name": "python",
   "nbconvert_exporter": "python",
   "pygments_lexer": "ipython3",
   "version": "3.11.4"
  }
 },
 "nbformat": 4,
 "nbformat_minor": 5
}
