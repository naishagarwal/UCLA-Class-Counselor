{
 "cells": [
  {
   "cell_type": "code",
   "execution_count": 1,
   "id": "f50e1de8",
   "metadata": {},
   "outputs": [],
   "source": [
    "import random\n",
    "import pandas as pd\n",
    "import json"
   ]
  },
  {
   "cell_type": "code",
   "execution_count": 2,
   "id": "6f30b3b9",
   "metadata": {},
   "outputs": [],
   "source": [
    "\n",
    "def prompt_generator(prompt_stems, answer_stems, prompt_keyword, answer_keyword):\n",
    "    # Define the list of prompt stems\n",
    "   \n",
    "    # Randomly select a prompt stem and an answer stem\n",
    "    selected_prompt = random.choice(prompt_stems)\n",
    "    selected_answer = random.choice(answer_stems)\n",
    "    # Replace {course_name} and {answer} in the selected stems\n",
    "    user_prompt = selected_prompt.format(prompt_keyword=prompt_keyword)\n",
    "    assistant_response = selected_answer.format(prompt_keyword=prompt_keyword, answer_keyword=answer_keyword)\n",
    "    \n",
    "    # Return the results as a dictionary\n",
    "    return {\n",
    "        \"user\": user_prompt,\n",
    "        \"assistant\": assistant_response\n",
    "    }"
   ]
  },
  {
   "cell_type": "markdown",
   "id": "7d7850dd",
   "metadata": {},
   "source": [
    "# Generating datsets for Majors and Schools"
   ]
  },
  {
   "cell_type": "code",
   "execution_count": 3,
   "id": "ad2213d6",
   "metadata": {},
   "outputs": [
    {
     "data": {
      "text/plain": [
       "Index(['Department Name', 'Abbreviation', 'Subject Area Name',\n",
       "       'Abbreviation.1', 'Div', 'School', 'are_classes'],\n",
       "      dtype='object')"
      ]
     },
     "execution_count": 3,
     "metadata": {},
     "output_type": "execute_result"
    }
   ],
   "source": [
    "df_majors = pd.read_csv(\"majors_to_scrape.csv\")\n",
    "\n",
    "school_dict = {\n",
    "    \"LS\": \"College of Letters and Science\",\n",
    "    \"AA\": \"School of the Arts and Architecture\",\n",
    "    \"EN\": \"School of Engineering\",\n",
    "    \"MN\": \"School of Medicine\",\n",
    "    \"PH\": \"School of Public Health\",\n",
    "    \"EI\": \"School of Education and Information Studies\",\n",
    "    \"MU\": \"School of Music\",\n",
    "    \"PA\": \"School of Public Affairs\",\n",
    "    \"LW\": \"School of Law\",\n",
    "    \"MG\": \"School of Management\",\n",
    "    \"NS\": \"School of Nursing\",\n",
    "    \"TF\": \"School of Theater, Film, and Television\"\n",
    "}\n",
    "\n",
    "prompt_stem_major = [\n",
    "    \"What school does the {prompt_keyword} major belong to?\",\n",
    "    \"Which school is the {prompt_keyword} major under?\",\n",
    "    \"Which school should I apply to in order to study the {prompt_keyword} major?\"\n",
    "    \"Which college or professional school houses the {prompt_keyword} major?\"\n",
    "]\n",
    "prompt_stem_department = [\n",
    "    \"What department does the {prompt_keyword} major fall under?\",\n",
    "    \"Which department has the {prompt_keyword} major?\",\n",
    "    \"To find out more about the {prompt_keyword} major, which department should I go to?\",\n",
    "    \"In order to enroll in the {prompt_keyword} major, which department should I speak to?\"\n",
    "]\n",
    "solution_stem_major = [\n",
    "    \"The {prompt_keyword} major belongs to the {answer_keyword}.\"\n",
    "]\n",
    "solution_stem_department = [\n",
    "    \"The {prompt_keyword} major falls under the Department of {answer_keyword}.\"\n",
    "]\n",
    "df_majors.columns"
   ]
  },
  {
   "cell_type": "code",
   "execution_count": 4,
   "id": "2322f1b9",
   "metadata": {},
   "outputs": [],
   "source": [
    "# Compose two seperate jsons, one for major to school, the other for major to department\n",
    "# For each entry in JSON, create two prompts\n",
    "major_to_school_prompts = []\n",
    "major_to_department_prompts = []\n",
    "\n",
    "for i in range(len(df_majors)):\n",
    "    dep_name, maj_name, school_abbrev = df_majors.iloc[i]['Department Name'], df_majors.iloc[i]['Subject Area Name'], df_majors.iloc[i]['School']\n",
    "    school = school_dict[school_abbrev]\n",
    "    \n",
    "    # Generate two prompts per data entry\n",
    "    for i in range(2):\n",
    "        major_to_school_prompts.append(prompt_generator(prompt_stem_major, solution_stem_major, maj_name, school))\n",
    "        major_to_department_prompts.append(prompt_generator(prompt_stem_department, solution_stem_department, maj_name, dep_name))\n"
   ]
  },
  {
   "cell_type": "code",
   "execution_count": 5,
   "id": "159910ce",
   "metadata": {},
   "outputs": [],
   "source": [
    "with open('prompts_major_school.json', 'w') as file:\n",
    "    # Write the list of dictionaries to file as JSON\n",
    "    json.dump(major_to_school_prompts, file, indent=4)\n",
    "\n",
    "with open('prompts_major_department.json', 'w') as file:\n",
    "    # Write the list of dictionaries to file as JSON\n",
    "    json.dump(major_to_department_prompts, file, indent=4)"
   ]
  },
  {
   "cell_type": "markdown",
   "id": "b92216dd",
   "metadata": {},
   "source": [
    "# Generating Datasets for Course Information"
   ]
  },
  {
   "cell_type": "code",
   "execution_count": 7,
   "id": "885ffa28",
   "metadata": {},
   "outputs": [
    {
     "data": {
      "text/html": [
       "<div>\n",
       "<style scoped>\n",
       "    .dataframe tbody tr th:only-of-type {\n",
       "        vertical-align: middle;\n",
       "    }\n",
       "\n",
       "    .dataframe tbody tr th {\n",
       "        vertical-align: top;\n",
       "    }\n",
       "\n",
       "    .dataframe thead th {\n",
       "        text-align: right;\n",
       "    }\n",
       "</style>\n",
       "<table border=\"1\" class=\"dataframe\">\n",
       "  <thead>\n",
       "    <tr style=\"text-align: right;\">\n",
       "      <th></th>\n",
       "      <th>class_name</th>\n",
       "      <th>class_dates</th>\n",
       "      <th>class_times</th>\n",
       "      <th>class_professor</th>\n",
       "      <th>year</th>\n",
       "      <th>semester</th>\n",
       "      <th>prof_rating</th>\n",
       "      <th>bruin_walk_url</th>\n",
       "      <th>lec</th>\n",
       "      <th>year_semester</th>\n",
       "    </tr>\n",
       "  </thead>\n",
       "  <tbody>\n",
       "    <tr>\n",
       "      <th>0</th>\n",
       "      <td>Aerospace Studies (AERO ST) 1A - Heritage and ...</td>\n",
       "      <td>F</td>\n",
       "      <td>12pm-12:50pm</td>\n",
       "      <td>Malone, M.B.</td>\n",
       "      <td>2024</td>\n",
       "      <td>fall</td>\n",
       "      <td>NaN</td>\n",
       "      <td>https://bruinwalk.com/professors/morgan-b-malo...</td>\n",
       "      <td>Lec 1</td>\n",
       "      <td>2024 fall</td>\n",
       "    </tr>\n",
       "    <tr>\n",
       "      <th>1</th>\n",
       "      <td>Aerospace Studies (AERO ST) 20A - Team and Lea...</td>\n",
       "      <td>F</td>\n",
       "      <td>1pm-1:50pm</td>\n",
       "      <td>Malone, M.B.</td>\n",
       "      <td>2024</td>\n",
       "      <td>fall</td>\n",
       "      <td>NaN</td>\n",
       "      <td>https://bruinwalk.com/professors/morgan-b-malone</td>\n",
       "      <td>Lec 1</td>\n",
       "      <td>2024 fall</td>\n",
       "    </tr>\n",
       "    <tr>\n",
       "      <th>2</th>\n",
       "      <td>Aerospace Studies (AERO ST) 130A - Air Force L...</td>\n",
       "      <td>F</td>\n",
       "      <td>12pm-2:50pm</td>\n",
       "      <td>Everhart, R.</td>\n",
       "      <td>2024</td>\n",
       "      <td>fall</td>\n",
       "      <td>NaN</td>\n",
       "      <td>https://bruinwalk.com/professors/robert-everha...</td>\n",
       "      <td>Lec 1</td>\n",
       "      <td>2024 fall</td>\n",
       "    </tr>\n",
       "    <tr>\n",
       "      <th>3</th>\n",
       "      <td>Aerospace Studies (AERO ST) 140A - National Se...</td>\n",
       "      <td>F</td>\n",
       "      <td>12pm-2:50pm</td>\n",
       "      <td>Allison, M.A.</td>\n",
       "      <td>2024</td>\n",
       "      <td>fall</td>\n",
       "      <td>NaN</td>\n",
       "      <td>https://bruinwalk.com/professors/mae-li-a-alli...</td>\n",
       "      <td>Lec 1</td>\n",
       "      <td>2024 fall</td>\n",
       "    </tr>\n",
       "    <tr>\n",
       "      <th>4</th>\n",
       "      <td>African American Studies (AF AMER) 1 - Introdu...</td>\n",
       "      <td>MW</td>\n",
       "      <td>1pm-2:50pm</td>\n",
       "      <td>Streeter, C.A.</td>\n",
       "      <td>2024</td>\n",
       "      <td>fall</td>\n",
       "      <td>NaN</td>\n",
       "      <td>https://bruinwalk.com/professors/caroline-stre...</td>\n",
       "      <td>Lec 1</td>\n",
       "      <td>2024 fall</td>\n",
       "    </tr>\n",
       "  </tbody>\n",
       "</table>\n",
       "</div>"
      ],
      "text/plain": [
       "                                          class_name class_dates  \\\n",
       "0  Aerospace Studies (AERO ST) 1A - Heritage and ...           F   \n",
       "1  Aerospace Studies (AERO ST) 20A - Team and Lea...           F   \n",
       "2  Aerospace Studies (AERO ST) 130A - Air Force L...           F   \n",
       "3  Aerospace Studies (AERO ST) 140A - National Se...           F   \n",
       "4  African American Studies (AF AMER) 1 - Introdu...          MW   \n",
       "\n",
       "    class_times class_professor  year semester  prof_rating  \\\n",
       "0  12pm-12:50pm    Malone, M.B.  2024     fall          NaN   \n",
       "1    1pm-1:50pm    Malone, M.B.  2024     fall          NaN   \n",
       "2   12pm-2:50pm    Everhart, R.  2024     fall          NaN   \n",
       "3   12pm-2:50pm   Allison, M.A.  2024     fall          NaN   \n",
       "4    1pm-2:50pm  Streeter, C.A.  2024     fall          NaN   \n",
       "\n",
       "                                      bruin_walk_url    lec year_semester  \n",
       "0  https://bruinwalk.com/professors/morgan-b-malo...  Lec 1     2024 fall  \n",
       "1   https://bruinwalk.com/professors/morgan-b-malone  Lec 1     2024 fall  \n",
       "2  https://bruinwalk.com/professors/robert-everha...  Lec 1     2024 fall  \n",
       "3  https://bruinwalk.com/professors/mae-li-a-alli...  Lec 1     2024 fall  \n",
       "4  https://bruinwalk.com/professors/caroline-stre...  Lec 1     2024 fall  "
      ]
     },
     "execution_count": 7,
     "metadata": {},
     "output_type": "execute_result"
    }
   ],
   "source": [
    "df_classes = pd.read_csv('prof_ratings_and_class_data_F_24.csv')\n",
    "df_classes = df_classes[df_classes['class_dates'].str.len() <= 5]\n",
    "\n",
    "df_classes['lec'] = df_classes['class_name'].str[-5:]\n",
    "df_classes['class_name'] = df_classes['class_name'].str[:-6]\n",
    "df_classes['year_semester'] = df_classes.apply(lambda row: (str(row['year']) + \" \" + row['semester']), axis=1)\n",
    "\n",
    "df_classes.head()"
   ]
  },
  {
   "cell_type": "code",
   "execution_count": 8,
   "id": "9f13fa0f",
   "metadata": {},
   "outputs": [],
   "source": [
    "day_map = {\n",
    "    \"M\": \"Monday\",\n",
    "    \"T\": \"Tuesday\",\n",
    "    \"W\": \"Wednesday\",\n",
    "    \"R\": \"Thursday\",\n",
    "    \"F\": \"Friday\",\n",
    "    \"MT\": \"Monday Tuesday\",\n",
    "    \"MW\": \"Monday Wednesday\",\n",
    "    \"MR\": \"Monday Thursday\",\n",
    "    \"MF\": \"Monday Friday\",\n",
    "    \"TW\": \"Tuesday Wednesday\",\n",
    "    \"TR\": \"Tuesday Thursday\",\n",
    "    \"TF\": \"Tuesday Friday\",\n",
    "    \"WR\": \"Wednesday Thursday\",\n",
    "    \"WF\": \"Wednesday Friday\",\n",
    "    \"RF\": \"Thursday Friday\",\n",
    "    \"MTW\": \"Monday Tuesday Wednesday\",\n",
    "    \"MTR\": \"Monday Tuesday Thursday\",\n",
    "    \"MTF\": \"Monday Tuesday Friday\",\n",
    "    \"MWR\": \"Monday Wednesday Thursday\",\n",
    "    \"MWF\": \"Monday Wednesday Friday\",\n",
    "    \"MRF\": \"Monday Thursday Friday\",\n",
    "    \"TWR\": \"Tuesday Wednesday Thursday\",\n",
    "    \"TWF\": \"Tuesday Wednesday Friday\",\n",
    "    \"TRF\": \"Tuesday Thursday Friday\",\n",
    "    \"WRF\": \"Wednesday Thursday Friday\",\n",
    "    \"MTWR\": \"Monday Tuesday Wednesday Thursday\",\n",
    "    \"MTWF\": \"Monday Tuesday Wednesday Friday\",\n",
    "    \"MTRF\": \"Monday Tuesday Thursday Friday\",\n",
    "    \"MWRF\": \"Monday Wednesday Thursday Friday\",\n",
    "    \"TWRF\": \"Tuesday Wednesday Thursday Friday\",\n",
    "    \"MTWRF\": \"Monday Tuesday Wednesday Thursday Friday\"\n",
    "}\n",
    "\n",
    "\n",
    "def concat_class_string(lec, day, hour):\n",
    "    result_string = lec + \": \" + day_map[day] + \" at \" + hour\n",
    "    return result_string\n",
    "    "
   ]
  },
  {
   "cell_type": "code",
   "execution_count": 10,
   "id": "c608266b",
   "metadata": {},
   "outputs": [
    {
     "data": {
      "text/plain": [
       "class_name                                                                                                                                           year_semester  class_professor     prof_rating  bruin_walk_url                                                       \n",
       "Aerospace Studies (AERO ST) 130A - Air Force Leadership Studies                                                                                      2024 fall      Everhart, R.        NaN          https://bruinwalk.com/professors/robert-everhart/aero-st-130a/                             [Lec 1: Friday at 12pm-2:50pm]\n",
       "Aerospace Studies (AERO ST) 140A - National Security Affairs/Preparation for Active Duty                                                             2024 fall      Allison, M.A.       NaN          https://bruinwalk.com/professors/mae-li-a-allison/aero-st-140a/                            [Lec 1: Friday at 12pm-2:50pm]\n",
       "Aerospace Studies (AERO ST) 1A - Heritage and Values                                                                                                 2024 fall      Malone, M.B.        NaN          https://bruinwalk.com/professors/morgan-b-malone/aero-st-1a/                              [Lec 1: Friday at 12pm-12:50pm]\n",
       "Aerospace Studies (AERO ST) 20A - Team and Leadership Fundamentals                                                                                   2024 fall      Malone, M.B.        NaN          https://bruinwalk.com/professors/morgan-b-malone                                            [Lec 1: Friday at 1pm-1:50pm]\n",
       "African American Studies (AF AMER) 1 - Introduction to Black Studies                                                                                 2024 fall      Streeter, C.A.      NaN          https://bruinwalk.com/professors/caroline-streeter                                [Lec 1: Monday Wednesday at 1pm-2:50pm]\n",
       "African American Studies (AF AMER) 112A - Sunken Place: Racism, Survival, and Black Horror Aesthetic                                                 2024 fall      Due, T.P.           NaN          https://bruinwalk.com/professors/tananarive-due/af-amer-112a/                 [Lec 1: Tuesday Thursday at 12:30pm-1:45pm]\n",
       "African American Studies (AF AMER) M104A - Early African American Literature                                                                         2024 fall      Yarborough, R.A.    NaN          https://bruinwalk.com/professors/richard-yarborough/af-amer-m104a/              [Lec 1: Tuesday Thursday at 11am-12:15pm]\n",
       "African American Studies (AF AMER) M104E - Topics in African American Literature and Culture                                                         2024 fall      Mullen, H.R.        NaN          https://bruinwalk.com/professors/harryette-r-mullen/af-amer-m104e/              [Lec 1: Tuesday Thursday at 10am-11:50am]\n",
       "African American Studies (AF AMER) M121 - Afro-Indigenous History: from Enslavement and Settlement to Black Lives Matter and Indigenous Sovereignty  2024 fall      Mays, K.T.          5.0          https://bruinwalk.com/professors/kyle-t-mays/af-amer-m121/                      [Lec 1: Monday Wednesday at 11am-12:15pm]\n",
       "African American Studies (AF AMER) M158B - Introduction to Afro-American History                                                                     2024 fall      Stevenson, B.       5.0          https://bruinwalk.com/professors/brenda-e-stevenson/af-amer-m158b/            [Lec 1: Tuesday Thursday at 9:30am-10:45am]\n",
       "African American Studies (AF AMER) M5 - Social Organization of Black Communities                                                                     2024 fall      No instructors      NaN          NaN                                                                               [Lec 1: Monday Wednesday at 5pm-6:15pm]\n",
       "African American Studies (AF AMER) M8A - Elementary Tigrinya                                                                                         2024 fall      No instructors      NaN          NaN                                                                               [Lec 1: Tuesday Thursday at 5pm-6:50pm]\n",
       "American Indian Studies (AM IND) 202 - Key Theories and Concepts in American Indian Studies                                                          2024 fall      Bradford-Gomez, K.  NaN          https://bruinwalk.com/professors/keri-bradford-gomez                                        [Lec 1: Monday at 1pm-3:50pm]\n",
       "American Indian Studies (AM IND) 265B - Federal Indian Law I                                                                                         2024 fall      Riley, A.R.         NaN          https://bruinwalk.com/professors/angela-r-riley/am-ind-265b/                  [Lec 1: Tuesday Thursday at 12:10pm-1:35pm]\n",
       "American Indian Studies (AM IND) 280A - Indigenous Peoples in International Law                                                                      2024 fall      Van Schilfgaarde,   NaN          https://bruinwalk.com/professors/lauren-van-schilfgaarde/am-ind-280a/    [Lec 1: Monday Tuesday Thursday at 10:25am-12pm]\n",
       "American Indian Studies (AM IND) 280B - Indigenous Peoples in International Law                                                                      2024 fall      Van Schilfgaarde,   NaN          https://bruinwalk.com/professors/lauren-van-schilfgaarde/am-ind-280b/    [Lec 1: Monday Tuesday Thursday at 10:25am-12pm]\n",
       "American Indian Studies (AM IND) M10 - Introduction to American Indian Studies                                                                       2024 fall      The Staff           NaN          NaN                                                                               [Lec 1: Tuesday Thursday at 8am-9:15am]\n",
       "American Indian Studies (AM IND) M123 - Afro-Indigenous History: from Enslavement and Settlement to Black Lives Matter and Indigenous Sovereignty    2024 fall      Mays, K.T.          NaN          https://bruinwalk.com/professors/kyle-t-mays/am-ind-m123/                       [Lec 1: Monday Wednesday at 11am-12:15pm]\n",
       "American Indian Studies (AM IND) M161 - Comparative American Indian Societies                                                                        2024 fall      The Staff           NaN          NaN                                                                                         [Lec 1: Monday at 1pm-3:50pm]\n",
       "American Indian Studies (AM IND) M187A - Special Topics in American Indian and Gender Studies                                                        2024 fall      Dorsey, K.B.        NaN          NaN                                                                             [Lec 1: Tuesday Thursday at 11am-12:15pm]\n",
       "Name: class_info_string, dtype: object"
      ]
     },
     "execution_count": 10,
     "metadata": {},
     "output_type": "execute_result"
    }
   ],
   "source": [
    "# concatenates time strings into string representation for language model\n",
    "df_classes['class_info_string'] = df_classes.apply(lambda row: concat_class_string(row['lec'], row['class_dates'], row['class_times']), axis=1)\n",
    "\n",
    "# aggregates into a dictionary of class names to a list of lecture times\n",
    "grouped = df_classes.groupby(['class_name', 'year_semester', 'class_professor', 'prof_rating', 'bruin_walk_url'], dropna=False)['class_info_string'].agg(list)\n",
    "\n",
    "nested_schedule = {}\n",
    "for (class_name, semester, class_professor, prof_rating, bruin_walk_url), info in grouped.items():\n",
    "    if class_name not in nested_schedule:\n",
    "        nested_schedule[class_name] = {}\n",
    "    nested_schedule[class_name] = [semester, class_professor, prof_rating, bruin_walk_url, info] # [semester][class_professor][prof_rating][bruin_walk_url]\n",
    "\n",
    "#print(nested_schedule['Aerospace Studies (AERO ST) 130A - Air Force Leadership Studies'])\n",
    "grouped.head(20)"
   ]
  },
  {
   "cell_type": "code",
   "execution_count": 11,
   "id": "10c76fb6",
   "metadata": {},
   "outputs": [],
   "source": [
    "def class_schedule_to_string(class_name, class_schedule):\n",
    "    quarters = len(class_schedule)\n",
    "    output = f\"{class_name} is offered in {quarters} quarters. \"\n",
    "    \n",
    "    #for quarter, lectures in class_schedule.items():\n",
    "    #    output += f\"In {quarter} quarter, \"\n",
    "    lecture_details = []\n",
    "    for lecture in class_schedule:\n",
    "        lecture_number, lecture_time = lecture.split(': ', 1)\n",
    "        lecture_details.append(f\"{lecture_number} is offered on {lecture_time}\")\n",
    "    output += \", and \".join(lecture_details) + \". \"\n",
    "    \n",
    "    return output.strip()\n"
   ]
  },
  {
   "cell_type": "code",
   "execution_count": 12,
   "id": "b1e68921",
   "metadata": {},
   "outputs": [],
   "source": [
    "# Creating txt files from the dictionary and dataframe\n",
    "\n",
    "embedding_sentences = []\n",
    "\n",
    "for class_name in nested_schedule:\n",
    "    class_id = class_name.split(' - ')[0]\n",
    "    class_title = class_name.split(' - ')[1]\n",
    "    class_prof = nested_schedule[class_name][1]\n",
    "    prof_rating = nested_schedule[class_name][2]\n",
    "    prof_url = nested_schedule[class_name][3]\n",
    "    class_schedule = nested_schedule[class_name][4]\n",
    "    definition_string = f\"{class_name} has class ID {class_id}. {class_name} has class title {class_id}. \" \n",
    "    definition_string += class_schedule_to_string(class_name, class_schedule)\n",
    "    definition_string += f\" {class_name} has professor {class_prof} with a Bruin Walk rating of {prof_rating}. More info can be found at {prof_url}\"\n",
    "    embedding_sentences.append(definition_string)"
   ]
  },
  {
   "cell_type": "code",
   "execution_count": 13,
   "id": "dacd6f15",
   "metadata": {},
   "outputs": [],
   "source": [
    "with open('embedding_input_followup.txt', mode='wt', encoding='utf-8') as f:\n",
    "    f.write('\\n'.join(embedding_sentences))"
   ]
  },
  {
   "cell_type": "code",
   "execution_count": 7,
   "id": "09bcb073",
   "metadata": {},
   "outputs": [],
   "source": [
    "prompt_stem_class = [\n",
    "    \"What lecture times are available for {prompt_keyword}?\",\n",
    "    \"What is the schedule like for {prompt_keyword}?\",\n",
    "    \"How many offerings are out there for {prompt_keyword}?\",\n",
    "    \"If I want to take {prompt_keyword}, what time slots do I need to free out?\"\n",
    "]\n",
    "answer_stem_class = [\n",
    "    \"The class {prompt_keyword} has the following time schedules:\\n\\n{answer_keyword}\"\n",
    "]"
   ]
  },
  {
   "cell_type": "code",
   "execution_count": 49,
   "id": "c5adb987",
   "metadata": {},
   "outputs": [],
   "source": [
    "# Train for class id, class name, and combined\n",
    "\n",
    "class_prompts = []\n",
    "\n",
    "for class_name in nested_schedule:\n",
    "    class_id = class_name.split(' - ')[0]\n",
    "    class_title = class_name.split(' - ')[1]\n",
    "    prompt_keywords = [class_name, class_id, class_title]\n",
    "    answer_keyword = \"\"\n",
    "    for semester in nested_schedule[class_name]:\n",
    "        answer_keyword += \"In \" + semester + \" quarter:\\n\"\n",
    "        answer_keyword += '\\n'.join(nested_schedule[class_name][semester])\n",
    "        answer_keyword += \"\\n\\n\"\n",
    "\n",
    "    # Generate two prompts per data entry\n",
    "    for i in range(3):\n",
    "        class_prompts.append(prompt_generator(prompt_stem_class, answer_stem_class, prompt_keywords[i], answer_keyword))\n",
    "\n"
   ]
  },
  {
   "cell_type": "code",
   "execution_count": 50,
   "id": "1ac43d2a",
   "metadata": {},
   "outputs": [],
   "source": [
    "with open('prompts_classes.json', 'w') as file:\n",
    "    # Write the list of dictionaries to file as JSON\n",
    "    json.dump(class_prompts, file, indent=4)"
   ]
  },
  {
   "cell_type": "code",
   "execution_count": 8,
   "id": "34814367",
   "metadata": {},
   "outputs": [
    {
     "ename": "NameError",
     "evalue": "name 'class_prompts' is not defined",
     "output_type": "error",
     "traceback": [
      "\u001b[0;31m---------------------------------------------------------------------------\u001b[0m",
      "\u001b[0;31mNameError\u001b[0m                                 Traceback (most recent call last)",
      "Cell \u001b[0;32mIn[8], line 1\u001b[0m\n\u001b[0;32m----> 1\u001b[0m \u001b[38;5;28mprint\u001b[39m(\u001b[38;5;28mlen\u001b[39m(\u001b[43mclass_prompts\u001b[49m))\n\u001b[1;32m      2\u001b[0m \u001b[38;5;28mprint\u001b[39m(\u001b[38;5;28mlen\u001b[39m(major_to_school_prompts))\n\u001b[1;32m      3\u001b[0m \u001b[38;5;28mprint\u001b[39m(\u001b[38;5;28mlen\u001b[39m(major_to_department_prompts))\n",
      "\u001b[0;31mNameError\u001b[0m: name 'class_prompts' is not defined"
     ]
    }
   ],
   "source": [
    "print(len(class_prompts))\n",
    "print(len(major_to_school_prompts))\n",
    "print(len(major_to_department_prompts))"
   ]
  },
  {
   "cell_type": "code",
   "execution_count": null,
   "id": "093d9a4a",
   "metadata": {},
   "outputs": [],
   "source": []
  }
 ],
 "metadata": {
  "kernelspec": {
   "display_name": "Python 3 (ipykernel)",
   "language": "python",
   "name": "python3"
  },
  "language_info": {
   "codemirror_mode": {
    "name": "ipython",
    "version": 3
   },
   "file_extension": ".py",
   "mimetype": "text/x-python",
   "name": "python",
   "nbconvert_exporter": "python",
   "pygments_lexer": "ipython3",
   "version": "3.11.9"
  }
 },
 "nbformat": 4,
 "nbformat_minor": 5
}
